{
  "nbformat": 4,
  "nbformat_minor": 0,
  "metadata": {
    "colab": {
      "name": "Newton_Raphson.ipynb",
      "provenance": [],
      "collapsed_sections": [],
      "toc_visible": true,
      "authorship_tag": "ABX9TyPkorjNBaDQ9ksSIYF6U+74",
      "include_colab_link": true
    },
    "kernelspec": {
      "name": "python3",
      "display_name": "Python 3"
    },
    "language_info": {
      "name": "python"
    }
  },
  "cells": [
    {
      "cell_type": "markdown",
      "metadata": {
        "id": "view-in-github",
        "colab_type": "text"
      },
      "source": [
        "<a href=\"https://colab.research.google.com/github/Nawapat2541/Newton_Raphson/blob/main/Newton_Raphson.ipynb\" target=\"_parent\"><img src=\"https://colab.research.google.com/assets/colab-badge.svg\" alt=\"Open In Colab\"/></a>"
      ]
    },
    {
      "cell_type": "code",
      "metadata": {
        "id": "47REGBMKLMQU"
      },
      "source": [
        "def derivative(input_fuction, x):\n",
        "  '''\n",
        "  return derivative of function of x\n",
        "  '''\n",
        "  h = 0.01\n",
        "  return (input_fuction(x + h) - input_fuction(x)) / h\n",
        "\n",
        "def newtow_rephson(input_fuction, x):\n",
        "  '''\n",
        "  x is a current value of fucntion\n",
        "  return next x\n",
        "  '''\n",
        "  return x - (input_fuction(x) / derivative(input_fuction, x))\n",
        "\n",
        "def find_root(max_round, input_fuction, a, b, error):\n",
        "    \n",
        "    round = 1\n",
        "    ak = a\n",
        "    bk = b \n",
        "    # inital estimates \n",
        "    previous_estimation  = a + b / 2\n",
        "\n",
        "    while (max_round > round) :\n",
        "      print(\"round no. \" , round)\n",
        "      next_estimation = newtow_rephson(input_fuction, previous_estimation)\n",
        "      fuction_estimation = input_fuction(next_estimation)\n",
        "      print('current f(x) = ', fuction_estimation)\n",
        "\n",
        "      # increment become small\n",
        "      if (abs(next_estimation - previous_estimation)) < error and round > 1:\n",
        "          print(\"Found exact solution. increment become small\")\n",
        "          return fuction_estimation\n",
        "\n",
        "      # resiual become small\n",
        "      if abs(fuction_estimation) < error:\n",
        "          print(\"Found exact solution. resiual become small\")\n",
        "          return fuction_estimation\n",
        "\n",
        "      previous_estimation = next_estimation\n",
        "      round = round + 1\n",
        "\n",
        "    return newtow_rephson(input_fuction, previous_estimation)\n"
      ],
      "execution_count": 5,
      "outputs": []
    },
    {
      "cell_type": "code",
      "metadata": {
        "colab": {
          "base_uri": "https://localhost:8080/"
        },
        "id": "zvJIEhVALXTp",
        "outputId": "6e70d84a-c08b-404b-90e8-67626d5bc129"
      },
      "source": [
        "objective_function = lambda x: x**4 + 2*x**3 - 25*x**2 - 26*x + 120\n",
        "approx_phi = find_root(1000, objective_function, 3, 100, 0.001)\n",
        "print(approx_phi)\n",
        "objective_function(approx_phi)"
      ],
      "execution_count": 6,
      "outputs": [
        {
          "output_type": "stream",
          "name": "stdout",
          "text": [
            "round no.  1\n",
            "current f(x) =  2566501.010523514\n",
            "round no.  2\n",
            "current f(x) =  810971.6290972121\n",
            "round no.  3\n",
            "current f(x) =  255929.5491859424\n",
            "round no.  4\n",
            "current f(x) =  80579.06411496468\n",
            "round no.  5\n",
            "current f(x) =  25261.799721229672\n",
            "round no.  6\n",
            "current f(x) =  7857.391145238785\n",
            "round no.  7\n",
            "current f(x) =  2407.967993951066\n",
            "round no.  8\n",
            "current f(x) =  716.6193955666234\n",
            "round no.  9\n",
            "current f(x) =  199.96159491750979\n",
            "round no.  10\n",
            "current f(x) =  47.28016139883756\n",
            "round no.  11\n",
            "current f(x) =  6.941759783953728\n",
            "round no.  12\n",
            "current f(x) =  0.2978417149044503\n",
            "round no.  13\n",
            "current f(x) =  0.0027477950409746654\n",
            "round no.  14\n",
            "current f(x) =  2.0645241562533556e-05\n",
            "Found exact solution. increment become small\n",
            "2.0645241562533556e-05\n"
          ]
        },
        {
          "output_type": "execute_result",
          "data": {
            "text/plain": [
              "119.99946321306375"
            ]
          },
          "metadata": {},
          "execution_count": 6
        }
      ]
    }
  ]
}